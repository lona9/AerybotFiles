{
 "cells": [
  {
   "cell_type": "markdown",
   "metadata": {},
   "source": [
    "# Getting the URL for every champ"
   ]
  },
  {
   "cell_type": "code",
   "execution_count": 7,
   "metadata": {},
   "outputs": [],
   "source": [
    "from selenium import webdriver\n",
    "from selenium.webdriver.common.keys import Keys\n",
    "from time import gmtime, strftime\n",
    "import time\n",
    "from selenium.common.exceptions import InvalidSessionIdException\n",
    "from selenium.webdriver.chrome.options import Options\n",
    "import os"
   ]
  },
  {
   "cell_type": "code",
   "execution_count": 22,
   "metadata": {},
   "outputs": [],
   "source": [
    "#List of champs for normals, including the ones with more than 1 popular position\n",
    "champs_normal = ['aatrox/', 'ahri/', 'akali/', 'akali/middle', 'akali/top', 'akshan/', 'akshan/middle', 'akshan/adc', 'alistar/', 'amumu/', 'anivia/', 'annie/', 'aphelios/', 'ashe/', 'aurelionsol/', 'azir/', 'bard/', 'belveth/', 'blitzcrank/', 'brand/', 'braum/', 'caitlyn/', 'camille/', 'cassiopeia/', 'chogath/', 'corki/', 'darius/', 'diana/', 'diana/jungle', 'diana/middle', 'drmundo/', 'drmundo/jungle', 'drmundo/top', 'draven/', 'ekko/', 'ekko/jungle', 'ekko/middle', 'elise/', 'evelynn/', 'ezreal/', 'fiddlesticks/', 'fiora/', 'fizz/', 'galio/', 'galio/middle', 'galio/support', 'gangplank/', 'garen/', 'gnar/', 'gragas/', 'gragas/jungle', 'gragas/top', 'gragas/support', 'graves/', 'gwen/', 'hecarim/', 'heimerdinger/', 'heimerdinger/middle', 'heimerdinger/top', 'illaoi/', 'irelia/', 'irelia/top', 'irelia/middle', 'ivern/', 'janna/', 'jarvaniv/', 'jax/', 'jayce/', 'jhin/', 'jinx/', 'kaisa/', 'kalista/', 'karma/', 'karthus/', 'kassadin/', 'katarina/', 'kayle/', 'kayn/', 'kennen/', 'khazix/', 'kindred/', 'kled/', 'kogmaw/', 'ksante/', 'leblanc/', 'leesin/', 'leesin/jungle', 'leesin/top', 'leona/', 'lillia/', 'lissandra/', 'lucian/', 'lucian/adc', 'lucian/middle', 'lulu/', 'lux/', 'lux/middle', 'lux/support', 'masteryi/', 'malphite/', 'malzahar/', 'maokai/', 'maokai/support', 'maokai/top', 'missfortune/', 'mordekaiser/', 'morgana/', 'morgana/jungle', 'morgana/support', 'nami/', 'nasus/', 'nautilus/', 'neeko/', 'neeko/middle', 'neeko/support', 'nidalee/', 'nilah/', 'nocturne/', 'nunu/', 'olaf/', 'orianna/', 'ornn/', 'pantheon/', 'pantheon/middle', 'pantheon/support', 'poppy/', 'poppy/jungle', 'poppy/top', 'pyke/', 'qiyana/', 'quinn/', 'rakan/', 'rammus/', 'reksai/', 'rell/', 'renata/', 'renekton/', 'rengar/', 'rengar/jungle', 'rengar/top', 'riven/', 'rumble/', 'ryze/', 'ryze/middle', 'ryze/top', 'samira/', 'sejuani/', 'senna/', 'seraphine/', 'sett/', 'sett/top', 'sett/support', 'shaco/', 'shaco/jungle', 'shaco/support', 'shen/', 'shyvana/', 'singed/', 'sion/', 'sivir/', 'skarner/', 'sona/', 'soraka/', 'swain/', 'swain/support', 'swain/adc', 'sylas/', 'sylas/middle', 'sylas/top', 'syndra/', 'tahmkench/', 'tahmkench/adc', 'tahmkench/top', 'tahmkench/support', 'taliyah/', 'talon/', 'taric/', 'teemo/', 'thresh/', 'tristana/', 'trundle/', 'trundle/jungle', 'trundle/top', 'tryndamere/', 'twistedfate/', 'twitch/', 'udyr/', 'urgot/', 'varus/', 'vayne/', 'veigar/', 'velkoz/', 'velkoz/middle', 'velkoz/support', 'vex/', 'vi/', 'viego/', 'viego/jungle', 'viego/middle', 'viktor/', 'vladimir/', 'vladimir/middle', 'vladimir/top', 'volibear/', 'volibear/jungle', 'volibear/top', 'warwick/', 'monkeyking/', 'xayah/', 'xerath/', 'xerath/support', 'xerath/middle', 'xinzhao/', 'yasuo/', 'yone/', 'yorick/', 'yuumi/', 'zac/', 'zed/', 'zeri/', 'ziggs/', 'ziggs/middle', 'ziggs/adc', 'zilean/', 'zoe/', 'zyra/']"
   ]
  },
  {
   "cell_type": "code",
   "execution_count": 23,
   "metadata": {},
   "outputs": [],
   "source": [
    "#list of champs for ARAM\n",
    "champs_aram = ['aatrox', 'ahri', 'akali', 'akshan', 'alistar', 'amumu', 'anivia', 'annie', 'aphelios', 'ashe', 'aurelionsol', 'azir', 'bard', 'belveth', 'blitzcrank', 'brand', 'braum', 'caitlyn', 'camille', 'cassiopeia', 'chogath', 'corki', 'darius', 'diana', 'drmundo', 'draven', 'ekko', 'elise', 'evelynn', 'ezreal', 'fiddlesticks', 'fiora', 'fizz', 'galio', 'gangplank', 'garen', 'gnar', 'gragas', 'graves', 'gwen', 'hecarim', 'heimerdinger', 'illaoi', 'irelia', 'ivern', 'janna', 'jarvaniv', 'jax', 'jayce', 'jhin', 'jinx', 'kaisa', 'kalista', 'karma', 'karthus', 'kassadin', 'katarina', 'kayle', 'kayn', 'kennen', 'khazix', 'kindred', 'kled', 'kogmaw', 'ksante', 'leblanc', 'leesin', 'leona', 'lillia', 'lissandra', 'lucian', 'lulu', 'lux', 'masteryi', 'malphite', 'malzahar', 'maokai', 'missfortune', 'mordekaiser', 'morgana', 'nami', 'nasus', 'nautilus', 'neeko', 'nidalee', 'nilah', 'nocturne', 'nunu', 'olaf', 'orianna', 'ornn', 'pantheon', 'poppy', 'pyke', 'qiyana', 'quinn', 'rakan', 'rammus', 'reksai', 'rell', 'renata', 'renekton', 'rengar', 'riven', 'rumble', 'ryze', 'samira', 'sejuani', 'senna', 'seraphine', 'sett', 'shaco', 'shen', 'shyvana', 'singed', 'sion', 'sivir', 'skarner', 'sona', 'soraka', 'swain', 'sylas', 'syndra', 'tahmkench', 'taliyah', 'talon', 'taric', 'teemo', 'thresh', 'tristana', 'trundle', 'tryndamere', 'twistedfate', 'twitch', 'udyr', 'urgot', 'varus', 'vayne', 'veigar', 'velkoz', 'vex', 'vi', 'viego', 'viktor', 'vladimir', 'volibear', 'warwick', 'monkeyking', 'xayah', 'xerath', 'xinzhao', 'yasuo', 'yone', 'yorick', 'yuumi', 'zac', 'zed', 'zeri', 'ziggs', 'zilean', 'zoe', 'zyra']"
   ]
  },
  {
   "cell_type": "markdown",
   "metadata": {},
   "source": [
    "## Files for Normals - Spanish"
   ]
  },
  {
   "cell_type": "code",
   "execution_count": 24,
   "metadata": {},
   "outputs": [],
   "source": [
    "urls = []\n",
    "\n",
    "#Getting the full URLs\n",
    "for champ in champs_normal:\n",
    "    url = 'https://www.leagueofgraphs.com/es/champions/builds/' + champ\n",
    "    urls.append(url)"
   ]
  },
  {
   "cell_type": "code",
   "execution_count": 25,
   "metadata": {
    "scrolled": true
   },
   "outputs": [
    {
     "name": "stdout",
     "output_type": "stream",
     "text": [
      "Current session is 2b7a94b9f7655b9965d9aead40d6a54e\n",
      "ksante.txt\n"
     ]
    }
   ],
   "source": [
    "#Start session\n",
    "\n",
    "driver = webdriver.Chrome(r\"chromedriver\")\n",
    "driver.maximize_window()\n",
    "print(\"Current session is {}\".format(driver.session_id))\n",
    "\n",
    "#Saving the source code\n",
    "for url in urls:\n",
    "    driver.get(url)\n",
    "    a=driver.page_source\n",
    "    name = ''.join(url.split('/')[-2:]) + '.txt'\n",
    "    print(name)\n",
    "    try:\n",
    "        file = open(os.path.join(\"normal/sp\", name),'w+',encoding='utf-8')\n",
    "        file.write(a)\n",
    "        file.close()\n",
    "        \n",
    "    except Exception as e:\n",
    "        print(e.message)\n",
    "    \n",
    "    #time.sleep(3)\n",
    "   \n",
    "driver.close()"
   ]
  },
  {
   "cell_type": "markdown",
   "metadata": {},
   "source": [
    "## Portuguese"
   ]
  },
  {
   "cell_type": "code",
   "execution_count": 26,
   "metadata": {},
   "outputs": [],
   "source": [
    "urls = []\n",
    "\n",
    "#Getting the full URLs\n",
    "for champ in champs_normal:\n",
    "    url = 'https://www.leagueofgraphs.com/pt/champions/builds/' + champ\n",
    "    urls.append(url)"
   ]
  },
  {
   "cell_type": "code",
   "execution_count": 27,
   "metadata": {},
   "outputs": [
    {
     "name": "stdout",
     "output_type": "stream",
     "text": [
      "Current session is e96e76ebb1b282c9176445788503c7a4\n",
      "ksante.txt\n"
     ]
    }
   ],
   "source": [
    "#Start session\n",
    "driver = webdriver.Chrome(r\"chromedriver\")\n",
    "driver.maximize_window()\n",
    "print(\"Current session is {}\".format(driver.session_id))\n",
    "\n",
    "#Saving the source code\n",
    "for url in urls:\n",
    "    driver.get(url)\n",
    "    a=driver.page_source\n",
    "    name = ''.join(url.split('/')[-2:]) + '.txt'\n",
    "    print(name)\n",
    "    try:\n",
    "        file = open(os.path.join(\"normal/pt\", name),'w',encoding='utf-8')\n",
    "        file.write(a)\n",
    "        file.close()\n",
    "        \n",
    "    except Exception as e:\n",
    "        print(e.message)\n",
    "       \n",
    "    #time.sleep(3)\n",
    "   \n",
    "driver.close()"
   ]
  },
  {
   "cell_type": "markdown",
   "metadata": {},
   "source": [
    "## English"
   ]
  },
  {
   "cell_type": "code",
   "execution_count": 28,
   "metadata": {},
   "outputs": [],
   "source": [
    "urls = []\n",
    "\n",
    "#Getting the full URLs\n",
    "for champ in champs_normal:\n",
    "    url = 'https://www.leagueofgraphs.com/champions/builds/' + champ\n",
    "    urls.append(url)"
   ]
  },
  {
   "cell_type": "code",
   "execution_count": 29,
   "metadata": {},
   "outputs": [
    {
     "name": "stdout",
     "output_type": "stream",
     "text": [
      "Current session is a60937844535296b8fcf09e4efc525ec\n",
      "ksante.txt\n"
     ]
    }
   ],
   "source": [
    "#Start session\n",
    "driver = webdriver.Chrome(r\"chromedriver\")\n",
    "driver.maximize_window()\n",
    "print(\"Current session is {}\".format(driver.session_id))\n",
    "\n",
    "#Saving the source code\n",
    "for url in urls:\n",
    "    driver.get(url)\n",
    "    a=driver.page_source\n",
    "    name = ''.join(url.split('/')[-2:]) + '.txt'\n",
    "    print(name)\n",
    "    try:\n",
    "        file = open(os.path.join(\"normal/en\", name),'w',encoding='utf-8')\n",
    "        file.write(a)\n",
    "        file.close()\n",
    "        \n",
    "    except Exception as e:\n",
    "        print(e.message)\n",
    "       \n",
    "    #time.sleep(3)\n",
    "   \n",
    "driver.close()"
   ]
  },
  {
   "cell_type": "markdown",
   "metadata": {},
   "source": [
    "## Files for ARAM - Spanish"
   ]
  },
  {
   "cell_type": "code",
   "execution_count": 30,
   "metadata": {},
   "outputs": [],
   "source": [
    "urls = []\n",
    "\n",
    "for champ in champs_aram:\n",
    "    url = 'https://www.leagueofgraphs.com/es/champions/builds/' + champ + '/aram'\n",
    "    urls.append(url)"
   ]
  },
  {
   "cell_type": "code",
   "execution_count": 31,
   "metadata": {},
   "outputs": [
    {
     "name": "stdout",
     "output_type": "stream",
     "text": [
      "Current session is 38c6bd27ea15e5a253ddc1d9472e23c3\n",
      "ksante.txt\n"
     ]
    }
   ],
   "source": [
    "#Start session\n",
    "driver = webdriver.Chrome(r\"chromedriver\")\n",
    "driver.maximize_window()\n",
    "print(\"Current session is {}\".format(driver.session_id))\n",
    "\n",
    "#Saving the source code\n",
    "for url in urls:\n",
    "    driver.get(url)\n",
    "    a=driver.page_source\n",
    "    name = url.split('/')[-2] + '.txt'\n",
    "    print(name)\n",
    "    try:\n",
    "        file = open(os.path.join(\"aram/sp\", name),'w', encoding='utf-8')\n",
    "        file.write(a)\n",
    "        file.close()\n",
    "        \n",
    "    except Exception as e:\n",
    "        print(e.message)\n",
    "       \n",
    "    #time.sleep(3)\n",
    "   \n",
    "driver.close()"
   ]
  },
  {
   "cell_type": "markdown",
   "metadata": {},
   "source": [
    "## Portuguese"
   ]
  },
  {
   "cell_type": "code",
   "execution_count": 32,
   "metadata": {},
   "outputs": [],
   "source": [
    "urls = []\n",
    "\n",
    "for champ in champs_aram:\n",
    "    url = 'https://www.leagueofgraphs.com/pt/champions/builds/' + champ + '/aram'\n",
    "    urls.append(url)"
   ]
  },
  {
   "cell_type": "code",
   "execution_count": 33,
   "metadata": {},
   "outputs": [
    {
     "name": "stdout",
     "output_type": "stream",
     "text": [
      "Current session is 83be2e978ad26157d1dc77861048143d\n",
      "ksante.txt\n"
     ]
    }
   ],
   "source": [
    "#Start session\n",
    "driver = webdriver.Chrome(r\"chromedriver\")\n",
    "driver.maximize_window()\n",
    "print(\"Current session is {}\".format(driver.session_id))\n",
    "\n",
    "#Saving the source code\n",
    "for url in urls:\n",
    "    driver.get(url)\n",
    "    a=driver.page_source\n",
    "    name = url.split('/')[-2] + '.txt'\n",
    "    print(name)\n",
    "    try:\n",
    "        file = open(os.path.join(\"aram/pt\", name),'w', encoding='utf-8')\n",
    "        file.write(a)\n",
    "        file.close()\n",
    "        \n",
    "    except Exception as e:\n",
    "        print(e.message)\n",
    "       \n",
    "    #time.sleep(3)\n",
    "   \n",
    "driver.close()"
   ]
  },
  {
   "cell_type": "markdown",
   "metadata": {},
   "source": [
    "## English"
   ]
  },
  {
   "cell_type": "code",
   "execution_count": 34,
   "metadata": {},
   "outputs": [],
   "source": [
    "urls = []\n",
    "\n",
    "for champ in champs_aram:\n",
    "    url = 'https://www.leagueofgraphs.com/champions/builds/' + champ + '/aram'\n",
    "    urls.append(url)"
   ]
  },
  {
   "cell_type": "code",
   "execution_count": 35,
   "metadata": {},
   "outputs": [
    {
     "name": "stdout",
     "output_type": "stream",
     "text": [
      "Current session is cd24968f56815162af6049aabb91c6d9\n",
      "ksante.txt\n"
     ]
    }
   ],
   "source": [
    "#Start session\n",
    "driver = webdriver.Chrome(r\"chromedriver\")\n",
    "driver.maximize_window()\n",
    "print(\"Current session is {}\".format(driver.session_id))\n",
    "\n",
    "#Saving the source code\n",
    "for url in urls:\n",
    "    driver.get(url)\n",
    "    a=driver.page_source\n",
    "    name = url.split('/')[-2] + '.txt'\n",
    "    print(name)\n",
    "    try:\n",
    "        file = open(os.path.join(\"aram/en\", name),'w', encoding='utf-8')\n",
    "        file.write(a)\n",
    "        file.close()\n",
    "        \n",
    "    except Exception as e:\n",
    "        print(e.message)\n",
    "       \n",
    "    #time.sleep(3)\n",
    "   \n",
    "driver.close()"
   ]
  }
 ],
 "metadata": {
  "kernelspec": {
   "display_name": "Python 3 (ipykernel)",
   "language": "python",
   "name": "python3"
  },
  "language_info": {
   "codemirror_mode": {
    "name": "ipython",
    "version": 3
   },
   "file_extension": ".py",
   "mimetype": "text/x-python",
   "name": "python",
   "nbconvert_exporter": "python",
   "pygments_lexer": "ipython3",
   "version": "3.9.12"
  }
 },
 "nbformat": 4,
 "nbformat_minor": 4
}
