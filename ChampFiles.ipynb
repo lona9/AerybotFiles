{
 "cells": [
  {
   "cell_type": "markdown",
   "metadata": {},
   "source": [
    "## Getting the URL for every champ"
   ]
  },
  {
   "cell_type": "code",
   "execution_count": 26,
   "metadata": {},
   "outputs": [
    {
     "name": "stdout",
     "output_type": "stream",
     "text": [
      "['https://www.leagueofgraphs.com/es/champions/builds/ekko/jungle']\n"
     ]
    }
   ],
   "source": [
    "champs = ['aatrox/', 'ahri/', 'akali/', 'akali/middle', 'akali/top', 'alistar/', 'amumu/', 'anivia/', 'annie/', 'aphelios/', 'ashe/', 'aurelionsol/', 'azir/', 'bard/', 'blitzcrank/', 'brand/', 'braum/', 'caitlyn/', 'camille/', 'chogath/', 'corki/', 'darius/', 'diana/', 'diana/jungle', 'diana/middle', 'drmundo/', 'drmundo/jungle', 'drmundo/top', 'draven/', 'ekko/', 'ekko/jungle', 'ekko/middle', 'elise/', 'evelynn/', 'ezreal/', 'fiddlesticks/', 'fiora/', 'fizz/', 'galio/', 'galio/middle', 'galio/support', 'gangplank/', 'garen/', 'gnar/', 'gragas/', 'gragas/jungle', 'gragas/top', 'gragas/support', 'graves/', 'gwen/', 'hecarim/', 'heimerdinger/', 'heimerdinger/middle', 'heimerdinger/top', 'illaoi/', 'irelia/', 'irelia/top', 'irelia/middle', 'ivern/', 'janna/', 'jarvaniv/', 'jax/', 'jayce/', 'jhin/', 'jinx/', 'kaisa/', 'kalista/', 'karma/', 'karthus/', 'kassadin/', 'katarina/', 'kayle/', 'kayn/', 'kennen/', 'khazix/', 'kindred/', 'kled/', 'kogmaw/', 'leblanc/', 'leesin/', 'leesin/jungle', 'leesin/top', 'leona/', 'lillia/', 'lissandra/', 'lucian/', 'lucian/adc', 'lucian/middle', 'lulu/', 'lux/', 'lux/middle', 'lux/support', 'masteryi/', 'malphite/', 'malzahar/', 'maokai/', 'maokai/support', 'maokai/top', 'missfortune/', 'mordekaiser/', 'morgana/', 'morgana/jungle', 'morgana/support', 'nami/', 'nasus/', 'nautilus/', 'neeko/', 'neeko/middle', 'neeko/support', 'nidalee/', 'nocturne/', 'nunu/', 'olaf/', 'orianna/', 'ornn/', 'pantheon/', 'pantheon/middle', 'pantheon/support', 'poppy/', 'poppy/jungle', 'poppy/top', 'pyke/', 'qiyana/', 'quinn/', 'rakan/', 'rammus/', 'reksai/', 'rell/', 'renekton/', 'rengar/', 'rengar/jungle', 'rengar/top', 'riven/', 'rumble/', 'ryze/', 'ryze/middle', 'ryze/top', 'samira/', 'sejuani/', 'senna/', 'seraphine/', 'sett/', 'sett/top', 'sett/support', 'shaco/', 'shaco/jungle', 'shaco/support', 'shen/', 'shyvana/', 'singed/', 'sion/', 'sivir/', 'skarner/', 'sona/', 'soraka/', 'swain/', 'swain/support', 'swain/adc', 'sylas/', 'sylas/middle', 'sylas/top', 'syndra/', 'tahmkench/', 'tahmkench/adc', 'tahmkench/top', 'tahmkench/support', 'taliyah/', 'talon/', 'taric/', 'teemo/', 'thresh/', 'tristana/', 'trundle/', 'trundle/jungle', 'trundle/top', 'tryndamere/', 'twistedfate/', 'twitch/', 'udyr/', 'urgot/', 'varus/', 'vayne/', 'veigar/', 'velkoz/', 'velkoz/middle', 'velkoz/support', 'vi/', 'viego/', 'viego/jungle', 'viego/middle', 'viktor/', 'vladimir/', 'vladimir/middle', 'vladimir/top', 'volibear/', 'volibear/jungle', 'volibear/top', 'warwick/', 'monkeyking/', 'xayah/', 'xerath/', 'xerath/support', 'xerath/middle', 'xinzhao/', 'yasuo/', 'yone/', 'yorick/', 'yuumi/', 'zac/', 'zed/', 'ziggs', 'ziggs/middle', 'ziggs/adc', 'zilean/', 'zoe/', 'zyra/']\n",
    "\n",
    "urls = []\n",
    "\n",
    "for champ in champs:\n",
    "  url = 'https://www.leagueofgraphs.com/es/champions/builds/' + champ\n",
    "  urls.append(url)\n",
    "print(urls)"
   ]
  },
  {
   "cell_type": "code",
   "execution_count": 27,
   "metadata": {
    "scrolled": false
   },
   "outputs": [
    {
     "name": "stdout",
     "output_type": "stream",
     "text": [
      "Current session is 4c7794fe85b8893b0fde5879ada57a67\n",
      "ekkojungle.txt\n"
     ]
    }
   ],
   "source": [
    "from selenium import webdriver\n",
    "from selenium.webdriver.common.keys import Keys\n",
    "from time import gmtime, strftime\n",
    "import time\n",
    "from selenium.common.exceptions import InvalidSessionIdException\n",
    "import os\n",
    "\n",
    "#Getting the source of the webpage and storing it as Text\n",
    "driver = webdriver.Edge(r\"C:/Users/Pilona/Documents/aery/msedgedriver.exe\")\n",
    "driver.maximize_window()\n",
    "print(\"Current session is {}\".format(driver.session_id))\n",
    "\n",
    "for url in urls:\n",
    "    driver.get(url)\n",
    "    a=driver.page_source\n",
    "    name = ''.join(url.split('/')[-2:]) + '.txt'\n",
    "    print(name)\n",
    "    try:\n",
    "        file = open(os.path.join(\"normal/files\", name),'w',encoding='utf-8')\n",
    "        file.write(a)\n",
    "        file.close()\n",
    "        \n",
    "    except Exception as e:\n",
    "        print(e.message)\n",
    "       \n",
    "    a=\"\"\n",
    "    time.sleep(3)\n",
    "   \n",
    "driver.close()"
   ]
  },
  {
   "cell_type": "code",
   "execution_count": null,
   "metadata": {},
   "outputs": [],
   "source": []
  }
 ],
 "metadata": {
  "kernelspec": {
   "display_name": "Python 3",
   "language": "python",
   "name": "python3"
  },
  "language_info": {
   "codemirror_mode": {
    "name": "ipython",
    "version": 3
   },
   "file_extension": ".py",
   "mimetype": "text/x-python",
   "name": "python",
   "nbconvert_exporter": "python",
   "pygments_lexer": "ipython3",
   "version": "3.8.5"
  }
 },
 "nbformat": 4,
 "nbformat_minor": 4
}
